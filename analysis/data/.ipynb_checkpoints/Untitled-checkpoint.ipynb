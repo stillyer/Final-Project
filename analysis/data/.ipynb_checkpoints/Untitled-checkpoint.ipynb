{
 "cells": [
  {
   "cell_type": "code",
   "execution_count": 6,
   "id": "b7f6ca11-eb34-4149-b711-65a80e7b52a5",
   "metadata": {
    "tags": []
   },
   "outputs": [],
   "source": [
    "import cenpy as c\n",
    "import pandas as pd"
   ]
  },
  {
   "cell_type": "code",
   "execution_count": 14,
   "id": "d65ec66e-a89d-465e-89c1-4ec109a5e596",
   "metadata": {
    "tags": []
   },
   "outputs": [
    {
     "name": "stdout",
     "output_type": "stream",
     "text": [
      "                                                   NAME B25077_001E state  \\\n",
      "0     Block Group 1; Census Tract 301.01; Collin Cou...      362300    48   \n",
      "1     Block Group 2; Census Tract 301.01; Collin Cou...      252800    48   \n",
      "2     Block Group 1; Census Tract 301.02; Collin Cou...      369700    48   \n",
      "3     Block Group 2; Census Tract 301.02; Collin Cou...      376200    48   \n",
      "4     Block Group 1; Census Tract 302.01; Collin Cou...      614000    48   \n",
      "...                                                 ...         ...   ...   \n",
      "3882  Block Group 2; Census Tract 1237; Tarrant Coun...  -666666666    48   \n",
      "3883  Block Group 3; Census Tract 1237; Tarrant Coun...  -666666666    48   \n",
      "3884  Block Group 4; Census Tract 1237; Tarrant Coun...      410200    48   \n",
      "3885  Block Group 5; Census Tract 1237; Tarrant Coun...  -666666666    48   \n",
      "3886  Block Group 1; Census Tract 9800; Tarrant Coun...  -666666666    48   \n",
      "\n",
      "     county   tract block group  \n",
      "0       085  030101           1  \n",
      "1       085  030101           2  \n",
      "2       085  030102           1  \n",
      "3       085  030102           2  \n",
      "4       085  030201           1  \n",
      "...     ...     ...         ...  \n",
      "3882    439  123700           2  \n",
      "3883    439  123700           3  \n",
      "3884    439  123700           4  \n",
      "3885    439  123700           5  \n",
      "3886    439  980000           1  \n",
      "\n",
      "[3887 rows x 6 columns]\n"
     ]
    }
   ],
   "source": [
    "acs = c.remote.APIConnection(\"ACSDT5Y2023\")\n",
    "\n",
    "variable = (\"NAME\", \"B25077_001E\")  # Median home value\n",
    "counties = \"113,121,439,085\"  # Comma-separated string\n",
    "texas = \"48\"  # Texas\n",
    "\n",
    "dallas_home_value = acs.query(\n",
    "        cols=variable,\n",
    "        geo_unit=\"block group\",\n",
    "        geo_filter={\"state\": texas, \"county\": counties, \"tract\": \"*\"},\n",
    ")\n",
    "\n",
    "print(dallas_home_value)"
   ]
  },
  {
   "cell_type": "code",
   "execution_count": null,
   "id": "90a23257-9942-420b-8217-45d0fb33430f",
   "metadata": {},
   "outputs": [],
   "source": []
  }
 ],
 "metadata": {
  "kernelspec": {
   "display_name": "Python 3 (ipykernel)",
   "language": "python",
   "name": "python3"
  },
  "language_info": {
   "codemirror_mode": {
    "name": "ipython",
    "version": 3
   },
   "file_extension": ".py",
   "mimetype": "text/x-python",
   "name": "python",
   "nbconvert_exporter": "python",
   "pygments_lexer": "ipython3",
   "version": "3.10.12"
  }
 },
 "nbformat": 4,
 "nbformat_minor": 5
}
