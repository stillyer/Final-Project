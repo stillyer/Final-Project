{
 "cells": [
  {
   "cell_type": "code",
   "execution_count": null,
   "id": "97fdcdef-23b9-4053-a644-35bdee81d19e",
   "metadata": {},
   "outputs": [],
   "source": [
    "import pandas as pd\n",
    "import numpy as np\n",
    "import geopandas as gpd\n",
    "from shapely.geometry import Point\n",
    "import matplotlib.pyplot as plt\n",
    "import seaborn as sns\n",
    "from sklearn.preprocessing import MinMaxScaler\n",
    "import folium\n",
    "from folium import plugins\n",
    "from branca.colormap import LinearColormap\n",
    "from IPython.display import IFrame\n",
    "from folium import PolyLine"
   ]
  },
  {
   "cell_type": "code",
   "execution_count": null,
   "id": "1e9291b5-829e-4ef2-8c97-aabbf45bbbc4",
   "metadata": {},
   "outputs": [],
   "source": [
    "dart_lrt_stations_final = pd.read_csv('./data/maps/dart_lrt_stations_final.csv')\n",
    "station_newhomes_pop = pd.read_csv('./data/maps/station_newhomes_pop.csv')\n",
    "\n",
    "print(dart_lrt_stations_final)\n",
    "print(station_newhomes_pop)"
   ]
  }
 ],
 "metadata": {
  "kernelspec": {
   "display_name": "Python 3 (ipykernel)",
   "language": "python",
   "name": "python3"
  },
  "language_info": {
   "codemirror_mode": {
    "name": "ipython",
    "version": 3
   },
   "file_extension": ".py",
   "mimetype": "text/x-python",
   "name": "python",
   "nbconvert_exporter": "python",
   "pygments_lexer": "ipython3",
   "version": "3.10.12"
  }
 },
 "nbformat": 4,
 "nbformat_minor": 5
}
